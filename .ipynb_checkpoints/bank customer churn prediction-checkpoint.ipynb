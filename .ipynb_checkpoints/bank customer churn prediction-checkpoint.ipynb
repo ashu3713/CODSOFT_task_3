{
 "cells": [
  {
   "cell_type": "code",
   "execution_count": null,
   "metadata": {
    "_cell_guid": "b1076dfc-b9ad-4769-8c92-a6c4dae69d19",
    "_uuid": "8f2839f25d086af736a60e9eeb907d3b93b6e0e5",
    "execution": {
     "iopub.execute_input": "2023-09-21T06:48:30.437683Z",
     "iopub.status.busy": "2023-09-21T06:48:30.436815Z",
     "iopub.status.idle": "2023-09-21T06:48:30.909493Z",
     "shell.execute_reply": "2023-09-21T06:48:30.908683Z",
     "shell.execute_reply.started": "2023-09-21T06:48:30.437632Z"
    }
   },
   "outputs": [],
   "source": [
    "import numpy as np \n",
    "import pandas as pd "
   ]
  },
  {
   "cell_type": "markdown",
   "metadata": {},
   "source": [
    "## Import Librarys"
   ]
  },
  {
   "cell_type": "code",
   "execution_count": null,
   "metadata": {
    "execution": {
     "iopub.execute_input": "2023-09-21T06:48:30.914465Z",
     "iopub.status.busy": "2023-09-21T06:48:30.913979Z",
     "iopub.status.idle": "2023-09-21T06:48:35.330151Z",
     "shell.execute_reply": "2023-09-21T06:48:35.329045Z",
     "shell.execute_reply.started": "2023-09-21T06:48:30.914425Z"
    }
   },
   "outputs": [],
   "source": [
    "import numpy as np \n",
    "import tensorflow as  tf \n",
    "import pandas as pd \n",
    "import matplotlib.pyplot as plt\n",
    "import seaborn as sns "
   ]
  },
  {
   "cell_type": "markdown",
   "metadata": {},
   "source": [
    "## Import Data "
   ]
  },
  {
   "cell_type": "code",
   "execution_count": null,
   "metadata": {
    "execution": {
     "iopub.execute_input": "2023-09-21T06:48:35.332502Z",
     "iopub.status.busy": "2023-09-21T06:48:35.331692Z",
     "iopub.status.idle": "2023-09-21T06:48:35.384626Z",
     "shell.execute_reply": "2023-09-21T06:48:35.383402Z",
     "shell.execute_reply.started": "2023-09-21T06:48:35.332461Z"
    }
   },
   "outputs": [],
   "source": [
    "data=pd.read_csv(r\"C:\\Users\\Ashu\\Downloads\\churn prediction\\Churn_Modelling.csv\")\n",
    "data.head()\n"
   ]
  },
  {
   "cell_type": "markdown",
   "metadata": {},
   "source": [
    "## Drop useless features "
   ]
  },
  {
   "cell_type": "code",
   "execution_count": null,
   "metadata": {
    "execution": {
     "iopub.execute_input": "2023-09-21T06:48:35.389183Z",
     "iopub.status.busy": "2023-09-21T06:48:35.387931Z",
     "iopub.status.idle": "2023-09-21T06:48:35.408557Z",
     "shell.execute_reply": "2023-09-21T06:48:35.407226Z",
     "shell.execute_reply.started": "2023-09-21T06:48:35.389133Z"
    }
   },
   "outputs": [],
   "source": [
    "data=data.drop(columns=['RowNumber','CustomerId','Surname'])\n",
    "data.head()"
   ]
  },
  {
   "cell_type": "markdown",
   "metadata": {},
   "source": [
    "## one hot code "
   ]
  },
  {
   "cell_type": "code",
   "execution_count": null,
   "metadata": {
    "execution": {
     "iopub.execute_input": "2023-09-21T06:48:35.410720Z",
     "iopub.status.busy": "2023-09-21T06:48:35.410265Z",
     "iopub.status.idle": "2023-09-21T06:48:35.442003Z",
     "shell.execute_reply": "2023-09-21T06:48:35.440607Z",
     "shell.execute_reply.started": "2023-09-21T06:48:35.410687Z"
    }
   },
   "outputs": [],
   "source": [
    "data['Gender']=data['Gender'].apply(lambda x :  0 if x=='Female' else 1)\n",
    "data['Gender']=data['Gender'].astype(int)\n",
    "data.head()"
   ]
  },
  {
   "cell_type": "code",
   "execution_count": null,
   "metadata": {
    "execution": {
     "iopub.execute_input": "2023-09-21T06:48:35.444554Z",
     "iopub.status.busy": "2023-09-21T06:48:35.443669Z",
     "iopub.status.idle": "2023-09-21T06:48:35.513426Z",
     "shell.execute_reply": "2023-09-21T06:48:35.512410Z",
     "shell.execute_reply.started": "2023-09-21T06:48:35.444437Z"
    }
   },
   "outputs": [],
   "source": [
    "from sklearn.preprocessing import LabelEncoder\n",
    "\n",
    "label_encoder = LabelEncoder()\n",
    "data['Geography']=label_encoder.fit_transform(data['Geography'])\n",
    "data.head()"
   ]
  },
  {
   "cell_type": "markdown",
   "metadata": {},
   "source": [
    "## Data Analysis"
   ]
  },
  {
   "cell_type": "code",
   "execution_count": null,
   "metadata": {
    "execution": {
     "iopub.execute_input": "2023-09-21T06:48:35.515465Z",
     "iopub.status.busy": "2023-09-21T06:48:35.514941Z",
     "iopub.status.idle": "2023-09-21T06:48:35.679220Z",
     "shell.execute_reply": "2023-09-21T06:48:35.677633Z",
     "shell.execute_reply.started": "2023-09-21T06:48:35.515422Z"
    }
   },
   "outputs": [],
   "source": [
    "value_counts=data['Exited'].value_counts()\n",
    "plt.pie(value_counts, labels=['Not Exited', 'Exited'], autopct='%1.1f%%', colors=sns.color_palette('Set3'))\n",
    "\n",
    "\n",
    "value_counts"
   ]
  },
  {
   "cell_type": "code",
   "execution_count": null,
   "metadata": {
    "execution": {
     "iopub.execute_input": "2023-09-21T06:48:35.683261Z",
     "iopub.status.busy": "2023-09-21T06:48:35.682083Z",
     "iopub.status.idle": "2023-09-21T06:48:35.693696Z",
     "shell.execute_reply": "2023-09-21T06:48:35.691981Z",
     "shell.execute_reply.started": "2023-09-21T06:48:35.683201Z"
    }
   },
   "outputs": [],
   "source": [
    "X=data.drop('Exited',axis=1)\n",
    "y=data['Exited']"
   ]
  },
  {
   "cell_type": "markdown",
   "metadata": {},
   "source": [
    "## Balance Data"
   ]
  },
  {
   "cell_type": "code",
   "execution_count": null,
   "metadata": {
    "execution": {
     "iopub.execute_input": "2023-09-21T06:48:35.698002Z",
     "iopub.status.busy": "2023-09-21T06:48:35.696687Z",
     "iopub.status.idle": "2023-09-21T06:48:35.886660Z",
     "shell.execute_reply": "2023-09-21T06:48:35.885203Z",
     "shell.execute_reply.started": "2023-09-21T06:48:35.697822Z"
    }
   },
   "outputs": [],
   "source": [
    "import numpy as np\n",
    "from collections import Counter\n",
    "from imblearn.over_sampling import RandomOverSampler\n",
    "\n",
    "print(\"Class distribution before oversampling:\", Counter(y))\n",
    "\n",
    "ros = RandomOverSampler(random_state=42)\n",
    "\n",
    "X, y = ros.fit_resample(X, y)\n",
    "\n",
    "print(\"Class distribution after oversampling:\", Counter(y))\n"
   ]
  },
  {
   "cell_type": "markdown",
   "metadata": {},
   "source": [
    "## Standardize Data "
   ]
  },
  {
   "cell_type": "code",
   "execution_count": null,
   "metadata": {
    "execution": {
     "iopub.execute_input": "2023-09-21T06:48:35.889124Z",
     "iopub.status.busy": "2023-09-21T06:48:35.888290Z",
     "iopub.status.idle": "2023-09-21T06:48:35.899479Z",
     "shell.execute_reply": "2023-09-21T06:48:35.897997Z",
     "shell.execute_reply.started": "2023-09-21T06:48:35.889079Z"
    }
   },
   "outputs": [],
   "source": [
    "X=np.array(X)\n",
    "X=(X-X.mean())/X.std()"
   ]
  },
  {
   "cell_type": "markdown",
   "metadata": {},
   "source": [
    "## split data "
   ]
  },
  {
   "cell_type": "code",
   "execution_count": null,
   "metadata": {
    "execution": {
     "iopub.execute_input": "2023-09-21T06:48:35.901706Z",
     "iopub.status.busy": "2023-09-21T06:48:35.901268Z",
     "iopub.status.idle": "2023-09-21T06:48:35.912543Z",
     "shell.execute_reply": "2023-09-21T06:48:35.911213Z",
     "shell.execute_reply.started": "2023-09-21T06:48:35.901671Z"
    }
   },
   "outputs": [],
   "source": [
    "from sklearn.model_selection import train_test_split\n",
    "x_train,x_test,y_train,y_test=train_test_split(X,y,test_size=0.20,random_state=42)"
   ]
  },
  {
   "cell_type": "markdown",
   "metadata": {},
   "source": [
    "## model evaluation"
   ]
  },
  {
   "cell_type": "code",
   "execution_count": null,
   "metadata": {
    "execution": {
     "iopub.execute_input": "2023-09-21T06:48:35.915859Z",
     "iopub.status.busy": "2023-09-21T06:48:35.914628Z",
     "iopub.status.idle": "2023-09-21T06:48:35.950331Z",
     "shell.execute_reply": "2023-09-21T06:48:35.949012Z",
     "shell.execute_reply.started": "2023-09-21T06:48:35.915812Z"
    }
   },
   "outputs": [],
   "source": [
    "import pandas as pd\n",
    "from sklearn.model_selection import train_test_split\n",
    "from sklearn.linear_model import LogisticRegression\n",
    "from sklearn.ensemble import RandomForestClassifier\n",
    "import xgboost as xgb\n",
    "from sklearn.metrics import accuracy_score, classification_report"
   ]
  },
  {
   "cell_type": "code",
   "execution_count": null,
   "metadata": {
    "execution": {
     "iopub.execute_input": "2023-09-21T06:48:35.957118Z",
     "iopub.status.busy": "2023-09-21T06:48:35.956074Z",
     "iopub.status.idle": "2023-09-21T06:48:36.041486Z",
     "shell.execute_reply": "2023-09-21T06:48:36.039890Z",
     "shell.execute_reply.started": "2023-09-21T06:48:35.957077Z"
    }
   },
   "outputs": [],
   "source": [
    "logistic_regression_model = LogisticRegression()\n",
    "logistic_regression_model.fit(x_train, y_train)\n",
    "logistic_regression_pred = logistic_regression_model.predict(x_test)\n",
    "\n",
    "print(\"Logistic Regression:\")\n",
    "print(\"Accuracy:\", accuracy_score(y_test, logistic_regression_pred))\n",
    "print(\"Classification Report:\\n\", classification_report(y_test, logistic_regression_pred))"
   ]
  },
  {
   "cell_type": "code",
   "execution_count": null,
   "metadata": {
    "execution": {
     "iopub.execute_input": "2023-09-21T06:48:36.044480Z",
     "iopub.status.busy": "2023-09-21T06:48:36.043613Z",
     "iopub.status.idle": "2023-09-21T06:48:38.260852Z",
     "shell.execute_reply": "2023-09-21T06:48:38.259318Z",
     "shell.execute_reply.started": "2023-09-21T06:48:36.044416Z"
    }
   },
   "outputs": [],
   "source": [
    "# Random Forests\n",
    "random_forest_model = RandomForestClassifier()\n",
    "random_forest_model.fit(x_train, y_train)\n",
    "random_forest_pred = random_forest_model.predict(x_test)\n",
    "\n",
    "print(\"Random Forests:\")\n",
    "print(\"Accuracy:\", accuracy_score(y_test, random_forest_pred))\n",
    "print(\"Classification Report:\\n\", classification_report(y_test, random_forest_pred))\n"
   ]
  },
  {
   "cell_type": "code",
   "execution_count": null,
   "metadata": {
    "execution": {
     "iopub.execute_input": "2023-09-21T06:48:38.263058Z",
     "iopub.status.busy": "2023-09-21T06:48:38.262555Z",
     "iopub.status.idle": "2023-09-21T06:48:39.375131Z",
     "shell.execute_reply": "2023-09-21T06:48:39.374233Z",
     "shell.execute_reply.started": "2023-09-21T06:48:38.263025Z"
    }
   },
   "outputs": [],
   "source": [
    "# XGBoost (Gradient Boosting)\n",
    "xgb_model = xgb.XGBClassifier()\n",
    "xgb_model.fit(x_train, y_train)\n",
    "xgb_pred = xgb_model.predict(x_test)\n",
    "\n",
    "print(\"XGBoost (Gradient Boosting):\")\n",
    "print(\"Accuracy:\", accuracy_score(y_test, xgb_pred))\n",
    "print(\"Classification Report:\\n\", classification_report(y_test, xgb_pred))"
   ]
  },
  {
   "cell_type": "code",
   "execution_count": null,
   "metadata": {
    "execution": {
     "iopub.execute_input": "2023-09-21T06:48:39.376945Z",
     "iopub.status.busy": "2023-09-21T06:48:39.376407Z",
     "iopub.status.idle": "2023-09-21T06:48:39.468017Z",
     "shell.execute_reply": "2023-09-21T06:48:39.466518Z",
     "shell.execute_reply.started": "2023-09-21T06:48:39.376894Z"
    }
   },
   "outputs": [],
   "source": [
    "from sklearn.tree import DecisionTreeClassifier\n",
    "dt = DecisionTreeClassifier()\n",
    "dt.fit(x_train, y_train)\n",
    "\n",
    "dt_pred = dt.predict(x_test)\n",
    "\n",
    "# Evaluate the model's performance\n",
    "print(\"Decision Tree Classifier:\")\n",
    "print(\"Accuracy:\", accuracy_score(y_test, dt_pred))\n",
    "print(\"Classification Report:\")\n",
    "print(classification_report(y_test, dt_pred))"
   ]
  },
  {
   "cell_type": "markdown",
   "metadata": {},
   "source": [
    "## Best acc = 95%  use # Random Forests"
   ]
  },
  {
   "cell_type": "code",
   "execution_count": null,
   "metadata": {},
   "outputs": [],
   "source": []
  },
  {
   "cell_type": "code",
   "execution_count": null,
   "metadata": {},
   "outputs": [],
   "source": []
  }
 ],
 "metadata": {
  "kernelspec": {
   "display_name": "Python 3 (ipykernel)",
   "language": "python",
   "name": "python3"
  },
  "language_info": {
   "codemirror_mode": {
    "name": "ipython",
    "version": 3
   },
   "file_extension": ".py",
   "mimetype": "text/x-python",
   "name": "python",
   "nbconvert_exporter": "python",
   "pygments_lexer": "ipython3",
   "version": "3.10.9"
  }
 },
 "nbformat": 4,
 "nbformat_minor": 4
}
