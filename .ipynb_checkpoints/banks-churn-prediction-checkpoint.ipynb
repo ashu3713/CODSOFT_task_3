{
 "cells": [
  {
   "cell_type": "code",
   "execution_count": 1,
   "metadata": {
    "_cell_guid": "b1076dfc-b9ad-4769-8c92-a6c4dae69d19",
    "_uuid": "8f2839f25d086af736a60e9eeb907d3b93b6e0e5",
    "execution": {
     "iopub.execute_input": "2023-09-15T20:58:27.499330Z",
     "iopub.status.busy": "2023-09-15T20:58:27.498956Z",
     "iopub.status.idle": "2023-09-15T20:58:27.508404Z",
     "shell.execute_reply": "2023-09-15T20:58:27.507557Z",
     "shell.execute_reply.started": "2023-09-15T20:58:27.499305Z"
    }
   },
   "outputs": [],
   "source": [
    "import numpy as np \n",
    "import pandas as pd"
   ]
  },
  {
   "cell_type": "markdown",
   "metadata": {},
   "source": [
    "<h1> Understanding the Data </h1>"
   ]
  },
  {
   "cell_type": "code",
   "execution_count": 2,
   "metadata": {
    "execution": {
     "iopub.execute_input": "2023-09-15T20:58:27.509970Z",
     "iopub.status.busy": "2023-09-15T20:58:27.509665Z",
     "iopub.status.idle": "2023-09-15T20:58:27.544101Z",
     "shell.execute_reply": "2023-09-15T20:58:27.543277Z",
     "shell.execute_reply.started": "2023-09-15T20:58:27.509942Z"
    }
   },
   "outputs": [
    {
     "data": {
      "text/html": [
       "<div>\n",
       "<style scoped>\n",
       "    .dataframe tbody tr th:only-of-type {\n",
       "        vertical-align: middle;\n",
       "    }\n",
       "\n",
       "    .dataframe tbody tr th {\n",
       "        vertical-align: top;\n",
       "    }\n",
       "\n",
       "    .dataframe thead th {\n",
       "        text-align: right;\n",
       "    }\n",
       "</style>\n",
       "<table border=\"1\" class=\"dataframe\">\n",
       "  <thead>\n",
       "    <tr style=\"text-align: right;\">\n",
       "      <th></th>\n",
       "      <th>RowNumber</th>\n",
       "      <th>CustomerId</th>\n",
       "      <th>Surname</th>\n",
       "      <th>CreditScore</th>\n",
       "      <th>Geography</th>\n",
       "      <th>Gender</th>\n",
       "      <th>Age</th>\n",
       "      <th>Tenure</th>\n",
       "      <th>Balance</th>\n",
       "      <th>NumOfProducts</th>\n",
       "      <th>HasCrCard</th>\n",
       "      <th>IsActiveMember</th>\n",
       "      <th>EstimatedSalary</th>\n",
       "      <th>Exited</th>\n",
       "    </tr>\n",
       "  </thead>\n",
       "  <tbody>\n",
       "    <tr>\n",
       "      <th>0</th>\n",
       "      <td>1</td>\n",
       "      <td>15634602</td>\n",
       "      <td>Hargrave</td>\n",
       "      <td>619</td>\n",
       "      <td>France</td>\n",
       "      <td>Female</td>\n",
       "      <td>42</td>\n",
       "      <td>2</td>\n",
       "      <td>0.00</td>\n",
       "      <td>1</td>\n",
       "      <td>1</td>\n",
       "      <td>1</td>\n",
       "      <td>101348.88</td>\n",
       "      <td>1</td>\n",
       "    </tr>\n",
       "    <tr>\n",
       "      <th>1</th>\n",
       "      <td>2</td>\n",
       "      <td>15647311</td>\n",
       "      <td>Hill</td>\n",
       "      <td>608</td>\n",
       "      <td>Spain</td>\n",
       "      <td>Female</td>\n",
       "      <td>41</td>\n",
       "      <td>1</td>\n",
       "      <td>83807.86</td>\n",
       "      <td>1</td>\n",
       "      <td>0</td>\n",
       "      <td>1</td>\n",
       "      <td>112542.58</td>\n",
       "      <td>0</td>\n",
       "    </tr>\n",
       "    <tr>\n",
       "      <th>2</th>\n",
       "      <td>3</td>\n",
       "      <td>15619304</td>\n",
       "      <td>Onio</td>\n",
       "      <td>502</td>\n",
       "      <td>France</td>\n",
       "      <td>Female</td>\n",
       "      <td>42</td>\n",
       "      <td>8</td>\n",
       "      <td>159660.80</td>\n",
       "      <td>3</td>\n",
       "      <td>1</td>\n",
       "      <td>0</td>\n",
       "      <td>113931.57</td>\n",
       "      <td>1</td>\n",
       "    </tr>\n",
       "    <tr>\n",
       "      <th>3</th>\n",
       "      <td>4</td>\n",
       "      <td>15701354</td>\n",
       "      <td>Boni</td>\n",
       "      <td>699</td>\n",
       "      <td>France</td>\n",
       "      <td>Female</td>\n",
       "      <td>39</td>\n",
       "      <td>1</td>\n",
       "      <td>0.00</td>\n",
       "      <td>2</td>\n",
       "      <td>0</td>\n",
       "      <td>0</td>\n",
       "      <td>93826.63</td>\n",
       "      <td>0</td>\n",
       "    </tr>\n",
       "    <tr>\n",
       "      <th>4</th>\n",
       "      <td>5</td>\n",
       "      <td>15737888</td>\n",
       "      <td>Mitchell</td>\n",
       "      <td>850</td>\n",
       "      <td>Spain</td>\n",
       "      <td>Female</td>\n",
       "      <td>43</td>\n",
       "      <td>2</td>\n",
       "      <td>125510.82</td>\n",
       "      <td>1</td>\n",
       "      <td>1</td>\n",
       "      <td>1</td>\n",
       "      <td>79084.10</td>\n",
       "      <td>0</td>\n",
       "    </tr>\n",
       "  </tbody>\n",
       "</table>\n",
       "</div>"
      ],
      "text/plain": [
       "   RowNumber  CustomerId   Surname  CreditScore Geography  Gender  Age  \\\n",
       "0          1    15634602  Hargrave          619    France  Female   42   \n",
       "1          2    15647311      Hill          608     Spain  Female   41   \n",
       "2          3    15619304      Onio          502    France  Female   42   \n",
       "3          4    15701354      Boni          699    France  Female   39   \n",
       "4          5    15737888  Mitchell          850     Spain  Female   43   \n",
       "\n",
       "   Tenure    Balance  NumOfProducts  HasCrCard  IsActiveMember  \\\n",
       "0       2       0.00              1          1               1   \n",
       "1       1   83807.86              1          0               1   \n",
       "2       8  159660.80              3          1               0   \n",
       "3       1       0.00              2          0               0   \n",
       "4       2  125510.82              1          1               1   \n",
       "\n",
       "   EstimatedSalary  Exited  \n",
       "0        101348.88       1  \n",
       "1        112542.58       0  \n",
       "2        113931.57       1  \n",
       "3         93826.63       0  \n",
       "4         79084.10       0  "
      ]
     },
     "execution_count": 2,
     "metadata": {},
     "output_type": "execute_result"
    }
   ],
   "source": [
    "banks = pd.read_csv(r\"C:\\Users\\Ashu\\Downloads\\churn prediction\\Churn_Modelling.csv\")\n",
    "banks.head()"
   ]
  },
  {
   "cell_type": "code",
   "execution_count": 3,
   "metadata": {
    "execution": {
     "iopub.execute_input": "2023-09-15T20:58:27.545485Z",
     "iopub.status.busy": "2023-09-15T20:58:27.545259Z",
     "iopub.status.idle": "2023-09-15T20:58:27.557714Z",
     "shell.execute_reply": "2023-09-15T20:58:27.556798Z",
     "shell.execute_reply.started": "2023-09-15T20:58:27.545465Z"
    }
   },
   "outputs": [
    {
     "name": "stdout",
     "output_type": "stream",
     "text": [
      "<class 'pandas.core.frame.DataFrame'>\n",
      "RangeIndex: 10000 entries, 0 to 9999\n",
      "Data columns (total 14 columns):\n",
      " #   Column           Non-Null Count  Dtype  \n",
      "---  ------           --------------  -----  \n",
      " 0   RowNumber        10000 non-null  int64  \n",
      " 1   CustomerId       10000 non-null  int64  \n",
      " 2   Surname          10000 non-null  object \n",
      " 3   CreditScore      10000 non-null  int64  \n",
      " 4   Geography        10000 non-null  object \n",
      " 5   Gender           10000 non-null  object \n",
      " 6   Age              10000 non-null  int64  \n",
      " 7   Tenure           10000 non-null  int64  \n",
      " 8   Balance          10000 non-null  float64\n",
      " 9   NumOfProducts    10000 non-null  int64  \n",
      " 10  HasCrCard        10000 non-null  int64  \n",
      " 11  IsActiveMember   10000 non-null  int64  \n",
      " 12  EstimatedSalary  10000 non-null  float64\n",
      " 13  Exited           10000 non-null  int64  \n",
      "dtypes: float64(2), int64(9), object(3)\n",
      "memory usage: 1.1+ MB\n"
     ]
    }
   ],
   "source": [
    "banks.info()"
   ]
  },
  {
   "cell_type": "code",
   "execution_count": 4,
   "metadata": {
    "execution": {
     "iopub.execute_input": "2023-09-15T20:58:27.578412Z",
     "iopub.status.busy": "2023-09-15T20:58:27.578083Z",
     "iopub.status.idle": "2023-09-15T20:58:27.587596Z",
     "shell.execute_reply": "2023-09-15T20:58:27.586715Z",
     "shell.execute_reply.started": "2023-09-15T20:58:27.578387Z"
    }
   },
   "outputs": [
    {
     "data": {
      "text/plain": [
       "RowNumber          0\n",
       "CustomerId         0\n",
       "Surname            0\n",
       "CreditScore        0\n",
       "Geography          0\n",
       "Gender             0\n",
       "Age                0\n",
       "Tenure             0\n",
       "Balance            0\n",
       "NumOfProducts      0\n",
       "HasCrCard          0\n",
       "IsActiveMember     0\n",
       "EstimatedSalary    0\n",
       "Exited             0\n",
       "dtype: int64"
      ]
     },
     "execution_count": 4,
     "metadata": {},
     "output_type": "execute_result"
    }
   ],
   "source": [
    "banks.isnull().sum()"
   ]
  },
  {
   "cell_type": "code",
   "execution_count": 5,
   "metadata": {
    "execution": {
     "iopub.execute_input": "2023-09-15T20:58:27.589523Z",
     "iopub.status.busy": "2023-09-15T20:58:27.589204Z",
     "iopub.status.idle": "2023-09-15T20:58:27.610228Z",
     "shell.execute_reply": "2023-09-15T20:58:27.609225Z",
     "shell.execute_reply.started": "2023-09-15T20:58:27.589490Z"
    }
   },
   "outputs": [
    {
     "data": {
      "text/html": [
       "<div>\n",
       "<style scoped>\n",
       "    .dataframe tbody tr th:only-of-type {\n",
       "        vertical-align: middle;\n",
       "    }\n",
       "\n",
       "    .dataframe tbody tr th {\n",
       "        vertical-align: top;\n",
       "    }\n",
       "\n",
       "    .dataframe thead th {\n",
       "        text-align: right;\n",
       "    }\n",
       "</style>\n",
       "<table border=\"1\" class=\"dataframe\">\n",
       "  <thead>\n",
       "    <tr style=\"text-align: right;\">\n",
       "      <th></th>\n",
       "      <th>RowNumber</th>\n",
       "      <th>CustomerId</th>\n",
       "      <th>Surname</th>\n",
       "      <th>CreditScore</th>\n",
       "      <th>Geography</th>\n",
       "      <th>Gender</th>\n",
       "      <th>Age</th>\n",
       "      <th>Tenure</th>\n",
       "      <th>Balance</th>\n",
       "      <th>NumOfProducts</th>\n",
       "      <th>HasCrCard</th>\n",
       "      <th>IsActiveMember</th>\n",
       "      <th>EstimatedSalary</th>\n",
       "      <th>Exited</th>\n",
       "    </tr>\n",
       "  </thead>\n",
       "  <tbody>\n",
       "    <tr>\n",
       "      <th>9995</th>\n",
       "      <td>9996</td>\n",
       "      <td>15606229</td>\n",
       "      <td>Obijiaku</td>\n",
       "      <td>771</td>\n",
       "      <td>France</td>\n",
       "      <td>Male</td>\n",
       "      <td>39</td>\n",
       "      <td>5</td>\n",
       "      <td>0.00</td>\n",
       "      <td>2</td>\n",
       "      <td>1</td>\n",
       "      <td>0</td>\n",
       "      <td>96270.64</td>\n",
       "      <td>0</td>\n",
       "    </tr>\n",
       "    <tr>\n",
       "      <th>9996</th>\n",
       "      <td>9997</td>\n",
       "      <td>15569892</td>\n",
       "      <td>Johnstone</td>\n",
       "      <td>516</td>\n",
       "      <td>France</td>\n",
       "      <td>Male</td>\n",
       "      <td>35</td>\n",
       "      <td>10</td>\n",
       "      <td>57369.61</td>\n",
       "      <td>1</td>\n",
       "      <td>1</td>\n",
       "      <td>1</td>\n",
       "      <td>101699.77</td>\n",
       "      <td>0</td>\n",
       "    </tr>\n",
       "    <tr>\n",
       "      <th>9997</th>\n",
       "      <td>9998</td>\n",
       "      <td>15584532</td>\n",
       "      <td>Liu</td>\n",
       "      <td>709</td>\n",
       "      <td>France</td>\n",
       "      <td>Female</td>\n",
       "      <td>36</td>\n",
       "      <td>7</td>\n",
       "      <td>0.00</td>\n",
       "      <td>1</td>\n",
       "      <td>0</td>\n",
       "      <td>1</td>\n",
       "      <td>42085.58</td>\n",
       "      <td>1</td>\n",
       "    </tr>\n",
       "    <tr>\n",
       "      <th>9998</th>\n",
       "      <td>9999</td>\n",
       "      <td>15682355</td>\n",
       "      <td>Sabbatini</td>\n",
       "      <td>772</td>\n",
       "      <td>Germany</td>\n",
       "      <td>Male</td>\n",
       "      <td>42</td>\n",
       "      <td>3</td>\n",
       "      <td>75075.31</td>\n",
       "      <td>2</td>\n",
       "      <td>1</td>\n",
       "      <td>0</td>\n",
       "      <td>92888.52</td>\n",
       "      <td>1</td>\n",
       "    </tr>\n",
       "    <tr>\n",
       "      <th>9999</th>\n",
       "      <td>10000</td>\n",
       "      <td>15628319</td>\n",
       "      <td>Walker</td>\n",
       "      <td>792</td>\n",
       "      <td>France</td>\n",
       "      <td>Female</td>\n",
       "      <td>28</td>\n",
       "      <td>4</td>\n",
       "      <td>130142.79</td>\n",
       "      <td>1</td>\n",
       "      <td>1</td>\n",
       "      <td>0</td>\n",
       "      <td>38190.78</td>\n",
       "      <td>0</td>\n",
       "    </tr>\n",
       "  </tbody>\n",
       "</table>\n",
       "</div>"
      ],
      "text/plain": [
       "      RowNumber  CustomerId    Surname  CreditScore Geography  Gender  Age  \\\n",
       "9995       9996    15606229   Obijiaku          771    France    Male   39   \n",
       "9996       9997    15569892  Johnstone          516    France    Male   35   \n",
       "9997       9998    15584532        Liu          709    France  Female   36   \n",
       "9998       9999    15682355  Sabbatini          772   Germany    Male   42   \n",
       "9999      10000    15628319     Walker          792    France  Female   28   \n",
       "\n",
       "      Tenure    Balance  NumOfProducts  HasCrCard  IsActiveMember  \\\n",
       "9995       5       0.00              2          1               0   \n",
       "9996      10   57369.61              1          1               1   \n",
       "9997       7       0.00              1          0               1   \n",
       "9998       3   75075.31              2          1               0   \n",
       "9999       4  130142.79              1          1               0   \n",
       "\n",
       "      EstimatedSalary  Exited  \n",
       "9995         96270.64       0  \n",
       "9996        101699.77       0  \n",
       "9997         42085.58       1  \n",
       "9998         92888.52       1  \n",
       "9999         38190.78       0  "
      ]
     },
     "execution_count": 5,
     "metadata": {},
     "output_type": "execute_result"
    }
   ],
   "source": [
    "banks.tail(5)"
   ]
  },
  {
   "cell_type": "markdown",
   "metadata": {},
   "source": [
    "<h1> Data Distribution of categorical and numerical variables </h1>"
   ]
  },
  {
   "cell_type": "code",
   "execution_count": 6,
   "metadata": {
    "execution": {
     "iopub.execute_input": "2023-09-15T20:58:27.611842Z",
     "iopub.status.busy": "2023-09-15T20:58:27.611498Z",
     "iopub.status.idle": "2023-09-15T20:58:27.778678Z",
     "shell.execute_reply": "2023-09-15T20:58:27.777662Z",
     "shell.execute_reply.started": "2023-09-15T20:58:27.611814Z"
    }
   },
   "outputs": [
    {
     "data": {
      "text/plain": [
       "<Axes: xlabel='Exited', ylabel='count'>"
      ]
     },
     "execution_count": 6,
     "metadata": {},
     "output_type": "execute_result"
    },
    {
     "data": {
      "image/png": "[encoded data removed]",
      "text/plain": [
       "<Figure size 640x480 with 1 Axes>"
      ]
     },
     "metadata": {},
     "output_type": "display_data"
    }
   ],
   "source": [
    "import seaborn as sns\n",
    "\n",
    "sns.countplot(x = 'Exited', data = banks)"
   ]
  },
  {
   "cell_type": "code",
   "execution_count": null,
   "metadata": {
    "execution": {
     "iopub.execute_input": "2023-09-15T20:58:27.780173Z",
     "iopub.status.busy": "2023-09-15T20:58:27.779584Z",
     "iopub.status.idle": "2023-09-15T20:58:27.924842Z",
     "shell.execute_reply": "2023-09-15T20:58:27.923463Z",
     "shell.execute_reply.started": "2023-09-15T20:58:27.780150Z"
    }
   },
   "outputs": [],
   "source": [
    "sns.countplot(x = 'IsActiveMember', data = banks)"
   ]
  },
  {
   "cell_type": "code",
   "execution_count": null,
   "metadata": {},
   "outputs": [],
   "source": []
  },
  {
   "cell_type": "code",
   "execution_count": null,
   "metadata": {
    "execution": {
     "iopub.execute_input": "2023-09-15T20:58:27.928099Z",
     "iopub.status.busy": "2023-09-15T20:58:27.927755Z",
     "iopub.status.idle": "2023-09-15T20:58:28.089094Z",
     "shell.execute_reply": "2023-09-15T20:58:28.088007Z",
     "shell.execute_reply.started": "2023-09-15T20:58:27.928057Z"
    }
   },
   "outputs": [],
   "source": [
    "sns.countplot(x = 'HasCrCard', data = banks)"
   ]
  },
  {
   "cell_type": "code",
   "execution_count": null,
   "metadata": {
    "execution": {
     "iopub.execute_input": "2023-09-15T20:58:28.090621Z",
     "iopub.status.busy": "2023-09-15T20:58:28.090260Z",
     "iopub.status.idle": "2023-09-15T20:58:28.234051Z",
     "shell.execute_reply": "2023-09-15T20:58:28.233333Z",
     "shell.execute_reply.started": "2023-09-15T20:58:28.090596Z"
    }
   },
   "outputs": [],
   "source": [
    "sns.countplot(x = 'Gender', data = banks)"
   ]
  },
  {
   "cell_type": "code",
   "execution_count": null,
   "metadata": {
    "execution": {
     "iopub.execute_input": "2023-09-15T20:58:28.236170Z",
     "iopub.status.busy": "2023-09-15T20:58:28.235155Z",
     "iopub.status.idle": "2023-09-15T20:58:28.386518Z",
     "shell.execute_reply": "2023-09-15T20:58:28.385778Z",
     "shell.execute_reply.started": "2023-09-15T20:58:28.236143Z"
    }
   },
   "outputs": [],
   "source": [
    "sns.countplot(x = 'Geography', data = banks)"
   ]
  },
  {
   "cell_type": "code",
   "execution_count": null,
   "metadata": {
    "execution": {
     "iopub.execute_input": "2023-09-15T20:58:28.388736Z",
     "iopub.status.busy": "2023-09-15T20:58:28.387650Z",
     "iopub.status.idle": "2023-09-15T20:58:28.401721Z",
     "shell.execute_reply": "2023-09-15T20:58:28.400761Z",
     "shell.execute_reply.started": "2023-09-15T20:58:28.388709Z"
    }
   },
   "outputs": [],
   "source": [
    "banks.nunique()"
   ]
  },
  {
   "cell_type": "code",
   "execution_count": null,
   "metadata": {
    "execution": {
     "iopub.execute_input": "2023-09-15T20:58:28.403157Z",
     "iopub.status.busy": "2023-09-15T20:58:28.402851Z",
     "iopub.status.idle": "2023-09-15T20:58:28.615505Z",
     "shell.execute_reply": "2023-09-15T20:58:28.614450Z",
     "shell.execute_reply.started": "2023-09-15T20:58:28.403136Z"
    }
   },
   "outputs": [],
   "source": [
    "sns.countplot(x = 'Tenure', data = banks)"
   ]
  },
  {
   "cell_type": "code",
   "execution_count": null,
   "metadata": {
    "execution": {
     "iopub.execute_input": "2023-09-15T20:58:28.618494Z",
     "iopub.status.busy": "2023-09-15T20:58:28.618231Z",
     "iopub.status.idle": "2023-09-15T20:58:28.776045Z",
     "shell.execute_reply": "2023-09-15T20:58:28.775097Z",
     "shell.execute_reply.started": "2023-09-15T20:58:28.618472Z"
    }
   },
   "outputs": [],
   "source": [
    "sns.countplot(x = 'NumOfProducts', data = banks)"
   ]
  },
  {
   "cell_type": "markdown",
   "metadata": {},
   "source": [
    "<h1> transforming categorical variable to numerical </h1>"
   ]
  },
  {
   "cell_type": "code",
   "execution_count": null,
   "metadata": {
    "execution": {
     "iopub.execute_input": "2023-09-15T20:58:28.778508Z",
     "iopub.status.busy": "2023-09-15T20:58:28.778232Z",
     "iopub.status.idle": "2023-09-15T20:58:28.797129Z",
     "shell.execute_reply": "2023-09-15T20:58:28.795351Z",
     "shell.execute_reply.started": "2023-09-15T20:58:28.778484Z"
    }
   },
   "outputs": [],
   "source": [
    "from sklearn.preprocessing import LabelEncoder\n",
    "\n",
    "label_encoder = LabelEncoder()\n",
    "banks['Geography'] = label_encoder.fit_transform(banks['Geography'])\n",
    "banks.head()"
   ]
  },
  {
   "cell_type": "code",
   "execution_count": null,
   "metadata": {
    "execution": {
     "iopub.execute_input": "2023-09-15T20:58:28.799132Z",
     "iopub.status.busy": "2023-09-15T20:58:28.798801Z",
     "iopub.status.idle": "2023-09-15T20:58:28.821766Z",
     "shell.execute_reply": "2023-09-15T20:58:28.820464Z",
     "shell.execute_reply.started": "2023-09-15T20:58:28.799106Z"
    }
   },
   "outputs": [],
   "source": [
    "banks['Gender'] = label_encoder.fit_transform(banks['Gender'])\n",
    "banks.head()"
   ]
  },
  {
   "cell_type": "code",
   "execution_count": null,
   "metadata": {
    "execution": {
     "iopub.execute_input": "2023-09-15T20:58:28.826500Z",
     "iopub.status.busy": "2023-09-15T20:58:28.826015Z",
     "iopub.status.idle": "2023-09-15T20:58:28.832882Z",
     "shell.execute_reply": "2023-09-15T20:58:28.831661Z",
     "shell.execute_reply.started": "2023-09-15T20:58:28.826468Z"
    }
   },
   "outputs": [],
   "source": [
    "# banks.drop(['Geography_encoded'], axis = 1)"
   ]
  },
  {
   "cell_type": "code",
   "execution_count": null,
   "metadata": {
    "execution": {
     "iopub.execute_input": "2023-09-15T20:58:28.834406Z",
     "iopub.status.busy": "2023-09-15T20:58:28.834117Z",
     "iopub.status.idle": "2023-09-15T20:58:29.968421Z",
     "shell.execute_reply": "2023-09-15T20:58:29.967034Z",
     "shell.execute_reply.started": "2023-09-15T20:58:28.834383Z"
    }
   },
   "outputs": [],
   "source": [
    "import matplotlib.pyplot as plt\n",
    "col_dis = ['CreditScore', 'Age', 'Balance', 'EstimatedSalary']\n",
    "for col in col_dis:\n",
    "    plt.figure(figsize=(8, 4))\n",
    "    sns.histplot(banks[col], bins = 20, kde = True)\n",
    "    plt.title(f'Distribution of {col}')\n",
    "    plt.xlabel(col)\n",
    "    plt.ylabel(\"Frequency\")\n",
    "    plt.show()          \n",
    "    "
   ]
  },
  {
   "cell_type": "markdown",
   "metadata": {},
   "source": [
    "<h1> Feature selection </h1>"
   ]
  },
  {
   "cell_type": "markdown",
   "metadata": {},
   "source": [
    "<h2> Using : Pearson Correlation Matrix and Information Gain </h2>"
   ]
  },
  {
   "cell_type": "code",
   "execution_count": null,
   "metadata": {
    "execution": {
     "iopub.execute_input": "2023-09-15T20:58:29.970137Z",
     "iopub.status.busy": "2023-09-15T20:58:29.969728Z",
     "iopub.status.idle": "2023-09-15T20:58:30.464080Z",
     "shell.execute_reply": "2023-09-15T20:58:30.462809Z",
     "shell.execute_reply.started": "2023-09-15T20:58:29.970104Z"
    }
   },
   "outputs": [],
   "source": [
    "from sklearn.feature_selection import mutual_info_classif\n",
    "%matplotlib inline\n",
    "x = banks.drop(['RowNumber','CustomerId','Surname', 'Exited'], axis = 1)\n",
    "y = banks['Exited']\n",
    "importance = mutual_info_classif(x,y)\n",
    "feat_imp = pd.Series(importance, banks.columns[3:len(banks.columns)-1])\n",
    "feat_imp.plot(kind = 'barh', color = 'teal')\n",
    "plt.show()"
   ]
  },
  {
   "cell_type": "markdown",
   "metadata": {},
   "source": [
    " "
   ]
  },
  {
   "cell_type": "code",
   "execution_count": null,
   "metadata": {
    "execution": {
     "iopub.execute_input": "2023-09-15T20:58:30.466104Z",
     "iopub.status.busy": "2023-09-15T20:58:30.465445Z",
     "iopub.status.idle": "2023-09-15T20:58:30.475821Z",
     "shell.execute_reply": "2023-09-15T20:58:30.474722Z",
     "shell.execute_reply.started": "2023-09-15T20:58:30.465987Z"
    }
   },
   "outputs": [],
   "source": [
    "correlation_matrix = x.corr()\n",
    "\n",
    "selected_features = correlation_matrix.iloc[:, 0].sort_values(ascending=False)[:6]\n",
    "\n",
    "print(selected_features)"
   ]
  },
  {
   "cell_type": "code",
   "execution_count": null,
   "metadata": {
    "execution": {
     "iopub.execute_input": "2023-09-15T20:58:30.477700Z",
     "iopub.status.busy": "2023-09-15T20:58:30.476940Z",
     "iopub.status.idle": "2023-09-15T20:58:30.484457Z",
     "shell.execute_reply": "2023-09-15T20:58:30.483339Z",
     "shell.execute_reply.started": "2023-09-15T20:58:30.477671Z"
    }
   },
   "outputs": [],
   "source": [
    "from sklearn.model_selection import KFold\n",
    "from sklearn.linear_model import LogisticRegression\n",
    "from sklearn.model_selection import train_test_split"
   ]
  },
  {
   "cell_type": "code",
   "execution_count": null,
   "metadata": {
    "execution": {
     "iopub.execute_input": "2023-09-15T20:58:30.486208Z",
     "iopub.status.busy": "2023-09-15T20:58:30.485832Z",
     "iopub.status.idle": "2023-09-15T20:58:30.498357Z",
     "shell.execute_reply": "2023-09-15T20:58:30.497321Z",
     "shell.execute_reply.started": "2023-09-15T20:58:30.486181Z"
    }
   },
   "outputs": [],
   "source": [
    "features = banks[['CreditScore', 'Geography', 'Gender', 'Age', 'Tenure', 'Balance', 'NumOfProducts', 'HasCrCard', 'IsActiveMember', 'EstimatedSalary']]\n",
    "target = banks['Exited']\n"
   ]
  },
  {
   "cell_type": "code",
   "execution_count": null,
   "metadata": {
    "execution": {
     "iopub.execute_input": "2023-09-15T20:58:30.499631Z",
     "iopub.status.busy": "2023-09-15T20:58:30.499372Z",
     "iopub.status.idle": "2023-09-15T20:58:30.514388Z",
     "shell.execute_reply": "2023-09-15T20:58:30.513105Z",
     "shell.execute_reply.started": "2023-09-15T20:58:30.499611Z"
    }
   },
   "outputs": [],
   "source": [
    "xtrain, xtest, ytrain, ytest = train_test_split(features, target, test_size = 0.20 , random_state = 42)"
   ]
  },
  {
   "cell_type": "code",
   "execution_count": null,
   "metadata": {
    "execution": {
     "iopub.execute_input": "2023-09-15T20:58:30.515602Z",
     "iopub.status.busy": "2023-09-15T20:58:30.515346Z",
     "iopub.status.idle": "2023-09-15T20:58:30.706809Z",
     "shell.execute_reply": "2023-09-15T20:58:30.706120Z",
     "shell.execute_reply.started": "2023-09-15T20:58:30.515580Z"
    }
   },
   "outputs": [],
   "source": [
    "kf = KFold(n_splits = 5)\n",
    "model = LogisticRegression()\n",
    "scores = []\n",
    "\n",
    "for train_index, test_index in kf.split(features):\n",
    "    model.fit(features.iloc[train_index], target.iloc[train_index])\n",
    "    scores.append(model.score(features.iloc[test_index], target.iloc[test_index]))\n",
    "print(np.mean(scores))    \n",
    "    "
   ]
  },
  {
   "cell_type": "code",
   "execution_count": null,
   "metadata": {
    "execution": {
     "iopub.execute_input": "2023-09-15T20:58:30.708562Z",
     "iopub.status.busy": "2023-09-15T20:58:30.707821Z",
     "iopub.status.idle": "2023-09-15T20:58:30.754993Z",
     "shell.execute_reply": "2023-09-15T20:58:30.754322Z",
     "shell.execute_reply.started": "2023-09-15T20:58:30.708533Z"
    }
   },
   "outputs": [],
   "source": [
    "model.fit(features, target)\n",
    "print(model.score(features, target))"
   ]
  },
  {
   "cell_type": "code",
   "execution_count": null,
   "metadata": {
    "execution": {
     "iopub.execute_input": "2023-09-15T20:58:30.756600Z",
     "iopub.status.busy": "2023-09-15T20:58:30.756162Z",
     "iopub.status.idle": "2023-09-15T20:58:30.831675Z",
     "shell.execute_reply": "2023-09-15T20:58:30.830984Z",
     "shell.execute_reply.started": "2023-09-15T20:58:30.756573Z"
    }
   },
   "outputs": [],
   "source": [
    "from sklearn.tree import DecisionTreeClassifier\n",
    "dt = DecisionTreeClassifier()\n",
    "dt.fit(features, target)\n",
    "print(dt.score(features, target))"
   ]
  },
  {
   "cell_type": "code",
   "execution_count": null,
   "metadata": {
    "execution": {
     "iopub.execute_input": "2023-09-15T20:58:30.833373Z",
     "iopub.status.busy": "2023-09-15T20:58:30.832912Z",
     "iopub.status.idle": "2023-09-15T20:58:36.816206Z",
     "shell.execute_reply": "2023-09-15T20:58:36.815214Z",
     "shell.execute_reply.started": "2023-09-15T20:58:30.833346Z"
    }
   },
   "outputs": [],
   "source": [
    "from sklearn.ensemble import RandomForestClassifier\n",
    "kf = KFold(n_splits = 5)\n",
    "model = RandomForestClassifier()\n",
    "scores = []\n",
    "\n",
    "for train_index, test_index in kf.split(features):\n",
    "    model.fit(features.iloc[train_index], target.iloc[train_index])\n",
    "    scores.append(model.score(features.iloc[test_index], target.iloc[test_index]))\n",
    "print(np.mean(scores))    \n",
    "    "
   ]
  },
  {
   "cell_type": "code",
   "execution_count": null,
   "metadata": {
    "execution": {
     "iopub.execute_input": "2023-09-15T20:58:36.817356Z",
     "iopub.status.busy": "2023-09-15T20:58:36.817056Z",
     "iopub.status.idle": "2023-09-15T20:58:38.447967Z",
     "shell.execute_reply": "2023-09-15T20:58:38.447041Z",
     "shell.execute_reply.started": "2023-09-15T20:58:36.817333Z"
    }
   },
   "outputs": [],
   "source": [
    "from sklearn.ensemble import RandomForestClassifier\n",
    "rfc = RandomForestClassifier()\n",
    "rfc.fit(features, target)\n",
    "print(rfc.score(features, target))"
   ]
  },
  {
   "cell_type": "markdown",
   "metadata": {},
   "source": [
    "Let's see now after spliting the data "
   ]
  },
  {
   "cell_type": "code",
   "execution_count": null,
   "metadata": {
    "execution": {
     "iopub.execute_input": "2023-09-15T20:58:38.449434Z",
     "iopub.status.busy": "2023-09-15T20:58:38.449115Z",
     "iopub.status.idle": "2023-09-15T20:58:38.609947Z",
     "shell.execute_reply": "2023-09-15T20:58:38.609144Z",
     "shell.execute_reply.started": "2023-09-15T20:58:38.449414Z"
    }
   },
   "outputs": [],
   "source": [
    "kf = KFold(n_splits=5)\n",
    "\n",
    "# Create the logistic regression model\n",
    "model = LogisticRegression()\n",
    "\n",
    "# Perform k-fold cross-validation\n",
    "scores = []\n",
    "for train_index, test_index in kf.split(xtrain):\n",
    "    \n",
    "     model.fit(xtrain.iloc[train_index], ytrain.iloc[train_index])\n",
    "     scores.append(model.score(xtrain.iloc[test_index], ytrain.iloc[test_index]))\n",
    " \n",
    "print(np.mean(scores))"
   ]
  },
  {
   "cell_type": "code",
   "execution_count": null,
   "metadata": {
    "execution": {
     "iopub.execute_input": "2023-09-15T20:58:38.612411Z",
     "iopub.status.busy": "2023-09-15T20:58:38.611019Z",
     "iopub.status.idle": "2023-09-15T20:58:38.657401Z",
     "shell.execute_reply": "2023-09-15T20:58:38.656518Z",
     "shell.execute_reply.started": "2023-09-15T20:58:38.612363Z"
    }
   },
   "outputs": [],
   "source": [
    "#logistic regression\n",
    "model.fit(xtrain, ytrain)\n",
    "print('training score ', model.score(xtrain, ytrain))\n",
    "print('testing score ', model.score(xtest, ytest))"
   ]
  },
  {
   "cell_type": "code",
   "execution_count": null,
   "metadata": {
    "execution": {
     "iopub.execute_input": "2023-09-15T20:58:38.659431Z",
     "iopub.status.busy": "2023-09-15T20:58:38.658759Z",
     "iopub.status.idle": "2023-09-15T20:58:38.723244Z",
     "shell.execute_reply": "2023-09-15T20:58:38.722373Z",
     "shell.execute_reply.started": "2023-09-15T20:58:38.659400Z"
    }
   },
   "outputs": [],
   "source": [
    "#descision tree \n",
    "dt.fit(xtrain, ytrain)\n",
    "print('training score ', dt.score(xtrain, ytrain))\n",
    "print('testing score ', dt.score(xtest, ytest))"
   ]
  },
  {
   "cell_type": "code",
   "execution_count": null,
   "metadata": {
    "execution": {
     "iopub.execute_input": "2023-09-15T20:58:38.725198Z",
     "iopub.status.busy": "2023-09-15T20:58:38.724599Z",
     "iopub.status.idle": "2023-09-15T20:58:40.046559Z",
     "shell.execute_reply": "2023-09-15T20:58:40.045231Z",
     "shell.execute_reply.started": "2023-09-15T20:58:38.725168Z"
    }
   },
   "outputs": [],
   "source": [
    "#random Forest\n",
    "rfc.fit(xtrain, ytrain)\n",
    "print('training score ', rfc.score(xtrain, ytrain))\n",
    "print('testing score ', rfc.score(xtest, ytest))\n"
   ]
  },
  {
   "cell_type": "code",
   "execution_count": null,
   "metadata": {
    "execution": {
     "iopub.execute_input": "2023-09-15T21:00:46.418572Z",
     "iopub.status.busy": "2023-09-15T21:00:46.418199Z",
     "iopub.status.idle": "2023-09-15T21:00:52.396461Z",
     "shell.execute_reply": "2023-09-15T21:00:52.395168Z",
     "shell.execute_reply.started": "2023-09-15T21:00:46.418543Z"
    }
   },
   "outputs": [],
   "source": [
    "k_score = []\n",
    "from sklearn.neighbors import KNeighborsClassifier\n",
    "for i in range (1, 11):\n",
    "    kn = KNeighborsClassifier(n_neighbors=i)\n",
    "    kn.fit(xtrain, ytrain)\n",
    "    k_score.append(kn.score(xtest, ytest))\n",
    "    print('values for K = ', i)\n",
    "    print('training score -> ', kn.score(xtrain, ytrain))\n",
    "    print('testing score -> ', kn.score(xtest, ytest))\n",
    "    print(\" \")\n",
    "\n",
    "print('training score ', kn.score(xtrain, ytrain))\n",
    "print('testing score ', kn.score(xtest, ytest))\n"
   ]
  },
  {
   "cell_type": "raw",
   "metadata": {},
   "source": []
  },
  {
   "cell_type": "code",
   "execution_count": null,
   "metadata": {},
   "outputs": [],
   "source": []
  }
 ],
 "metadata": {
  "kernelspec": {
   "display_name": "Python 3 (ipykernel)",
   "language": "python",
   "name": "python3"
  },
  "language_info": {
   "codemirror_mode": {
    "name": "ipython",
    "version": 3
   },
   "file_extension": ".py",
   "mimetype": "text/x-python",
   "name": "python",
   "nbconvert_exporter": "python",
   "pygments_lexer": "ipython3",
   "version": "3.10.9"
  }
 },
 "nbformat": 4,
 "nbformat_minor": 4
}
